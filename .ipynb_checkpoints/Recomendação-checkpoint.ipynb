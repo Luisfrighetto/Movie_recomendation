{
 "cells": [
  {
   "cell_type": "markdown",
   "id": "25f2bff7",
   "metadata": {},
   "source": [
    "Criação de recomendação de filmes a partir da transformação dos titulos em matrizes numericas. logo após a transformação dos titulos em numeros, comparamos com uma lista de avaliação de filmes. para que o modelo nos retorne os filmes mais bem avaliados por aquelas pessoas que tambem avaliaram bem o filque que procuro."
   ]
  },
  {
   "cell_type": "markdown",
   "id": "fe1364ed",
   "metadata": {},
   "source": [
    "### Leitura da base "
   ]
  },
  {
   "cell_type": "code",
   "execution_count": 6,
   "id": "47589151",
   "metadata": {},
   "outputs": [],
   "source": [
    "import pandas as pd\n",
    "filme=pd.read_csv('movies.csv')"
   ]
  },
  {
   "cell_type": "code",
   "execution_count": 7,
   "id": "c2eb6dc5",
   "metadata": {},
   "outputs": [
    {
     "data": {
      "text/html": [
       "<div>\n",
       "<style scoped>\n",
       "    .dataframe tbody tr th:only-of-type {\n",
       "        vertical-align: middle;\n",
       "    }\n",
       "\n",
       "    .dataframe tbody tr th {\n",
       "        vertical-align: top;\n",
       "    }\n",
       "\n",
       "    .dataframe thead th {\n",
       "        text-align: right;\n",
       "    }\n",
       "</style>\n",
       "<table border=\"1\" class=\"dataframe\">\n",
       "  <thead>\n",
       "    <tr style=\"text-align: right;\">\n",
       "      <th></th>\n",
       "      <th>movieId</th>\n",
       "      <th>title</th>\n",
       "      <th>genres</th>\n",
       "    </tr>\n",
       "  </thead>\n",
       "  <tbody>\n",
       "    <tr>\n",
       "      <th>0</th>\n",
       "      <td>1</td>\n",
       "      <td>Toy Story (1995)</td>\n",
       "      <td>Adventure|Animation|Children|Comedy|Fantasy</td>\n",
       "    </tr>\n",
       "    <tr>\n",
       "      <th>1</th>\n",
       "      <td>2</td>\n",
       "      <td>Jumanji (1995)</td>\n",
       "      <td>Adventure|Children|Fantasy</td>\n",
       "    </tr>\n",
       "    <tr>\n",
       "      <th>2</th>\n",
       "      <td>3</td>\n",
       "      <td>Grumpier Old Men (1995)</td>\n",
       "      <td>Comedy|Romance</td>\n",
       "    </tr>\n",
       "    <tr>\n",
       "      <th>3</th>\n",
       "      <td>4</td>\n",
       "      <td>Waiting to Exhale (1995)</td>\n",
       "      <td>Comedy|Drama|Romance</td>\n",
       "    </tr>\n",
       "    <tr>\n",
       "      <th>4</th>\n",
       "      <td>5</td>\n",
       "      <td>Father of the Bride Part II (1995)</td>\n",
       "      <td>Comedy</td>\n",
       "    </tr>\n",
       "    <tr>\n",
       "      <th>...</th>\n",
       "      <td>...</td>\n",
       "      <td>...</td>\n",
       "      <td>...</td>\n",
       "    </tr>\n",
       "    <tr>\n",
       "      <th>62418</th>\n",
       "      <td>209157</td>\n",
       "      <td>We (2018)</td>\n",
       "      <td>Drama</td>\n",
       "    </tr>\n",
       "    <tr>\n",
       "      <th>62419</th>\n",
       "      <td>209159</td>\n",
       "      <td>Window of the Soul (2001)</td>\n",
       "      <td>Documentary</td>\n",
       "    </tr>\n",
       "    <tr>\n",
       "      <th>62420</th>\n",
       "      <td>209163</td>\n",
       "      <td>Bad Poems (2018)</td>\n",
       "      <td>Comedy|Drama</td>\n",
       "    </tr>\n",
       "    <tr>\n",
       "      <th>62421</th>\n",
       "      <td>209169</td>\n",
       "      <td>A Girl Thing (2001)</td>\n",
       "      <td>(no genres listed)</td>\n",
       "    </tr>\n",
       "    <tr>\n",
       "      <th>62422</th>\n",
       "      <td>209171</td>\n",
       "      <td>Women of Devil's Island (1962)</td>\n",
       "      <td>Action|Adventure|Drama</td>\n",
       "    </tr>\n",
       "  </tbody>\n",
       "</table>\n",
       "<p>62423 rows × 3 columns</p>\n",
       "</div>"
      ],
      "text/plain": [
       "       movieId                               title  \\\n",
       "0            1                    Toy Story (1995)   \n",
       "1            2                      Jumanji (1995)   \n",
       "2            3             Grumpier Old Men (1995)   \n",
       "3            4            Waiting to Exhale (1995)   \n",
       "4            5  Father of the Bride Part II (1995)   \n",
       "...        ...                                 ...   \n",
       "62418   209157                           We (2018)   \n",
       "62419   209159           Window of the Soul (2001)   \n",
       "62420   209163                    Bad Poems (2018)   \n",
       "62421   209169                 A Girl Thing (2001)   \n",
       "62422   209171      Women of Devil's Island (1962)   \n",
       "\n",
       "                                            genres  \n",
       "0      Adventure|Animation|Children|Comedy|Fantasy  \n",
       "1                       Adventure|Children|Fantasy  \n",
       "2                                   Comedy|Romance  \n",
       "3                             Comedy|Drama|Romance  \n",
       "4                                           Comedy  \n",
       "...                                            ...  \n",
       "62418                                        Drama  \n",
       "62419                                  Documentary  \n",
       "62420                                 Comedy|Drama  \n",
       "62421                           (no genres listed)  \n",
       "62422                       Action|Adventure|Drama  \n",
       "\n",
       "[62423 rows x 3 columns]"
      ]
     },
     "execution_count": 7,
     "metadata": {},
     "output_type": "execute_result"
    }
   ],
   "source": [
    "filme"
   ]
  },
  {
   "cell_type": "markdown",
   "id": "3ccc8302",
   "metadata": {},
   "source": [
    "### Limpeza dos titulos "
   ]
  },
  {
   "cell_type": "code",
   "execution_count": 8,
   "id": "fffbc8e6",
   "metadata": {},
   "outputs": [],
   "source": [
    "import re\n",
    "\n",
    "def limpar_titulo(title):\n",
    "    return re.sub(\"[^a-zA-Z0-9 ]\",\"\", title)  # ^ dentro da classe de caracteres nega o padrão, ou seja, corresponderá a qualquer caractere que não esteja na lista a seguir.\n",
    "                                        #a-zA-Z0-9 corresponde a qualquer letra maiúscula, letra minúscula ou dígito.\n",
    "                                       #O espaço em branco \" \" corresponde a um espaço em branco litera\n",
    "\n",
    "\n",
    "            "
   ]
  },
  {
   "cell_type": "code",
   "execution_count": 9,
   "id": "47e5a2be",
   "metadata": {},
   "outputs": [],
   "source": [
    "filme[\"clean_title\"] = filme[\"title\"].apply(limpar_titulo)"
   ]
  },
  {
   "cell_type": "markdown",
   "id": "d0810059",
   "metadata": {},
   "source": [
    "### Tornando os titulos em vetores de numeros \n",
    "\n",
    "\n",
    "// Aplicando uma ponderação por nome. (Inverse docment frequency) Que ajuda o mecanismo de pesquisa encontrar termos que são unicos"
   ]
  },
  {
   "cell_type": "code",
   "execution_count": 10,
   "id": "af4bb13b",
   "metadata": {},
   "outputs": [],
   "source": [
    "from sklearn.feature_extraction.text import TfidfVectorizer\n",
    "\n",
    "vectorizer = TfidfVectorizer(ngram_range=(1,2))    #ngram.range procura (toy {story) 1995}\n",
    "\n",
    "tfidf = vectorizer.fit_transform(filme[\"clean_title\"]) #transformou em matriz de numeros os titulos"
   ]
  },
  {
   "cell_type": "markdown",
   "id": "d7643ece",
   "metadata": {},
   "source": [
    "### Criando uma função de busca"
   ]
  },
  {
   "cell_type": "code",
   "execution_count": 11,
   "id": "4cc56202",
   "metadata": {},
   "outputs": [],
   "source": [
    "#calculando a similaridade dos graficos\n",
    "from sklearn.metrics.pairwise import cosine_similarity\n",
    "import numpy as np\n",
    "\n",
    "#definição de search(title)\n",
    "def search(title):    \n",
    "    \n",
    "    title = limpar_titulo(title)\n",
    "    query_vec = vectorizer.transform([title])\n",
    "    similarity = cosine_similarity(query_vec, tfidf).flatten()\n",
    "    indices = np.argpartition(similarity, -5)[-5:] # achando os 5 titulos mais similares\n",
    "    results = filme.iloc[indices] [::-1] # esta ultima expressao busca o ultimo filme \n",
    "    return results                                   # pois o filme mais similar esta como ultimo na saida dos dados \n",
    "    \n",
    "    \n"
   ]
  },
  {
   "cell_type": "code",
   "execution_count": 44,
   "id": "92c8c71c",
   "metadata": {},
   "outputs": [
    {
     "data": {
      "text/plain": [
       "array([0.113662  , 0.12665159, 0.57464617, ..., 0.        , 0.        ,\n",
       "       0.        ])"
      ]
     },
     "execution_count": 44,
     "metadata": {},
     "output_type": "execute_result"
    }
   ],
   "source": [
    "similarity"
   ]
  },
  {
   "cell_type": "code",
   "execution_count": 49,
   "id": "f9d41f24",
   "metadata": {},
   "outputs": [
    {
     "data": {
      "text/html": [
       "<div>\n",
       "<style scoped>\n",
       "    .dataframe tbody tr th:only-of-type {\n",
       "        vertical-align: middle;\n",
       "    }\n",
       "\n",
       "    .dataframe tbody tr th {\n",
       "        vertical-align: top;\n",
       "    }\n",
       "\n",
       "    .dataframe thead th {\n",
       "        text-align: right;\n",
       "    }\n",
       "</style>\n",
       "<table border=\"1\" class=\"dataframe\">\n",
       "  <thead>\n",
       "    <tr style=\"text-align: right;\">\n",
       "      <th></th>\n",
       "      <th>movieId</th>\n",
       "      <th>title</th>\n",
       "      <th>genres</th>\n",
       "      <th>clean_title</th>\n",
       "    </tr>\n",
       "  </thead>\n",
       "  <tbody>\n",
       "    <tr>\n",
       "      <th>60174</th>\n",
       "      <td>202701</td>\n",
       "      <td>Любить по-русски (1995)</td>\n",
       "      <td>Drama|Romance</td>\n",
       "      <td>1995</td>\n",
       "    </tr>\n",
       "    <tr>\n",
       "      <th>2</th>\n",
       "      <td>3</td>\n",
       "      <td>Grumpier Old Men (1995)</td>\n",
       "      <td>Comedy|Romance</td>\n",
       "      <td>Grumpier Old Men 1995</td>\n",
       "    </tr>\n",
       "    <tr>\n",
       "      <th>28489</th>\n",
       "      <td>131824</td>\n",
       "      <td>Men... (1985)</td>\n",
       "      <td>Comedy</td>\n",
       "      <td>Men 1985</td>\n",
       "    </tr>\n",
       "    <tr>\n",
       "      <th>11003</th>\n",
       "      <td>47484</td>\n",
       "      <td>G Men (1935)</td>\n",
       "      <td>Crime|Drama</td>\n",
       "      <td>G Men 1935</td>\n",
       "    </tr>\n",
       "    <tr>\n",
       "      <th>7071</th>\n",
       "      <td>7196</td>\n",
       "      <td>Men, The (1950)</td>\n",
       "      <td>Drama</td>\n",
       "      <td>Men The 1950</td>\n",
       "    </tr>\n",
       "  </tbody>\n",
       "</table>\n",
       "</div>"
      ],
      "text/plain": [
       "       movieId                    title          genres            clean_title\n",
       "60174   202701  Любить по-русски (1995)   Drama|Romance                   1995\n",
       "2            3  Grumpier Old Men (1995)  Comedy|Romance  Grumpier Old Men 1995\n",
       "28489   131824            Men... (1985)          Comedy               Men 1985\n",
       "11003    47484             G Men (1935)     Crime|Drama             G Men 1935\n",
       "7071      7196          Men, The (1950)           Drama           Men The 1950"
      ]
     },
     "execution_count": 49,
     "metadata": {},
     "output_type": "execute_result"
    }
   ],
   "source": [
    "results"
   ]
  },
  {
   "cell_type": "markdown",
   "id": "81de20d9",
   "metadata": {},
   "source": [
    "### Criando uma caixa interativa para busca dos titulos"
   ]
  },
  {
   "cell_type": "code",
   "execution_count": 12,
   "id": "d94e0efe",
   "metadata": {},
   "outputs": [
    {
     "data": {
      "application/vnd.jupyter.widget-view+json": {
       "model_id": "d9799ef737b84ad5abb9340b03aa3512",
       "version_major": 2,
       "version_minor": 0
      },
      "text/plain": [
       "Text(value='Toy Story', description='Movies Title:')"
      ]
     },
     "metadata": {},
     "output_type": "display_data"
    },
    {
     "data": {
      "application/vnd.jupyter.widget-view+json": {
       "model_id": "8b3d492ab0fd44f18fa20e7e6fa59756",
       "version_major": 2,
       "version_minor": 0
      },
      "text/plain": [
       "Output()"
      ]
     },
     "metadata": {},
     "output_type": "display_data"
    }
   ],
   "source": [
    "import ipywidgets as widgets\n",
    "\n",
    "from IPython.display import display\n",
    "\n",
    "movie_input = widgets.Text(\n",
    "     value=\"Toy Story\",\n",
    "     description=\"Movies Title:\",\n",
    "      disabled = False\n",
    ")\n",
    "\n",
    "\n",
    "movie_list = widgets.Output()\n",
    "\n",
    "def on_type(data):\n",
    "    with movie_list:\n",
    "         movie_list.clear_output()\n",
    "         title = data[\"new\"]\n",
    "         if len(title) > 5:\n",
    "            display(search(title))\n",
    "            \n",
    "movie_input.observe(on_type, names=\"value\")\n",
    "\n",
    "display(movie_input, movie_list)"
   ]
  },
  {
   "cell_type": "markdown",
   "id": "24b6e527",
   "metadata": {},
   "source": [
    "### Leitura dos dados de avaliação dos filmes"
   ]
  },
  {
   "cell_type": "code",
   "execution_count": 64,
   "id": "0df2f285",
   "metadata": {},
   "outputs": [],
   "source": [
    "ratings = pd.read_csv(\"ratings.csv\")"
   ]
  },
  {
   "cell_type": "code",
   "execution_count": 65,
   "id": "51b351af",
   "metadata": {},
   "outputs": [
    {
     "data": {
      "text/plain": [
       "userId         int64\n",
       "movieId        int64\n",
       "rating       float64\n",
       "timestamp      int64\n",
       "dtype: object"
      ]
     },
     "execution_count": 65,
     "metadata": {},
     "output_type": "execute_result"
    }
   ],
   "source": [
    "ratings.dtypes"
   ]
  },
  {
   "cell_type": "markdown",
   "id": "48431fec",
   "metadata": {},
   "source": [
    "### Usuarios que gostaram dos mesmos filme que eu"
   ]
  },
  {
   "cell_type": "code",
   "execution_count": 68,
   "id": "3d1c6e1a",
   "metadata": {},
   "outputs": [],
   "source": [
    "movie_id = 1 "
   ]
  },
  {
   "cell_type": "code",
   "execution_count": 80,
   "id": "fd4435db",
   "metadata": {},
   "outputs": [],
   "source": [
    "# Pessoas que assistiram o movieID & com classificação maior q 4\n",
    "similar_users = ratings[(ratings[\"movieId\"]) == movie_id & (ratings[\"rating\"] > 4)][\"userId\"].unique()\n"
   ]
  },
  {
   "cell_type": "code",
   "execution_count": 86,
   "id": "3c72eb14",
   "metadata": {},
   "outputs": [],
   "source": [
    "#Encontrando os outros filmes que elas gostam \n",
    "# temos aqui filmes diferentes para usuarios que gostam do mesmo filme que eu\n",
    "\n",
    "similar_user_recs = ratings[(ratings[\"userId\"].isin(similar_users))&(ratings[\"rating\"] >4)][\"movieId\"]\n"
   ]
  },
  {
   "cell_type": "code",
   "execution_count": 88,
   "id": "49423f8e",
   "metadata": {},
   "outputs": [],
   "source": [
    "#encontrando filmes com mais de 10% dos usuarios que sao semelhante q eu gosto\n",
    "similar_user_recs = similar_user_recs.value_counts() / len(similar_users)\n",
    "\n",
    "similar_user_recs = similar_user_recs[similar_user_recs > .1] "
   ]
  },
  {
   "cell_type": "code",
   "execution_count": 89,
   "id": "439131ff",
   "metadata": {},
   "outputs": [
    {
     "data": {
      "text/plain": [
       "1        1.000000\n",
       "318      0.445607\n",
       "260      0.403770\n",
       "356      0.370215\n",
       "296      0.367295\n",
       "           ...   \n",
       "953      0.103053\n",
       "551      0.101195\n",
       "1222     0.100876\n",
       "745      0.100345\n",
       "48780    0.100186\n",
       "Name: movieId, Length: 113, dtype: float64"
      ]
     },
     "execution_count": 89,
     "metadata": {},
     "output_type": "execute_result"
    }
   ],
   "source": [
    "\n",
    "similar_user_recs"
   ]
  },
  {
   "cell_type": "markdown",
   "id": "8e558788",
   "metadata": {},
   "source": [
    "### Os filmes que todos os usuarios gostam ( o que é comum)\n",
    "\n",
    "filmes que pessoas como nos gostam mais que geralmente gostam\n",
    "\n",
    "vamos descobrir quanto todos os usuarios em nosso conjunto de dados gostam desses filmes "
   ]
  },
  {
   "cell_type": "code",
   "execution_count": 91,
   "id": "4ae6f8e7",
   "metadata": {},
   "outputs": [],
   "source": [
    "# encontrando alguem que avaliou um filme q esta em nosso confunto de indice de pontos de filme recomendados\n",
    "# & e tambem encontratemos pessoas que classificaram alto\n",
    "all_users = ratings[(ratings[\"movieId\"].isin(similar_user_recs.index)) & (ratings[\"rating\"] > 4)]"
   ]
  },
  {
   "cell_type": "code",
   "execution_count": 96,
   "id": "597f4599",
   "metadata": {},
   "outputs": [],
   "source": [
    "#descobrir qual a porcentagem de todos os usuarios que recomendam cada um desses filmes\n",
    "all_users_recs = all_users[\"movieId\"].value_counts() / len(all_users[\"userId\"].unique())\n"
   ]
  },
  {
   "cell_type": "code",
   "execution_count": 98,
   "id": "22c43e3a",
   "metadata": {},
   "outputs": [],
   "source": [
    " \n",
    "rec_percentages = pd.concat([similar_user_recs, all_users_recs],axis=1)\n",
    "rec_percentages.columns = [\"similar\",\"all\"]\n"
   ]
  },
  {
   "cell_type": "code",
   "execution_count": 99,
   "id": "0831ed61",
   "metadata": {},
   "outputs": [
    {
     "data": {
      "text/html": [
       "<div>\n",
       "<style scoped>\n",
       "    .dataframe tbody tr th:only-of-type {\n",
       "        vertical-align: middle;\n",
       "    }\n",
       "\n",
       "    .dataframe tbody tr th {\n",
       "        vertical-align: top;\n",
       "    }\n",
       "\n",
       "    .dataframe thead th {\n",
       "        text-align: right;\n",
       "    }\n",
       "</style>\n",
       "<table border=\"1\" class=\"dataframe\">\n",
       "  <thead>\n",
       "    <tr style=\"text-align: right;\">\n",
       "      <th></th>\n",
       "      <th>similar</th>\n",
       "      <th>all</th>\n",
       "    </tr>\n",
       "  </thead>\n",
       "  <tbody>\n",
       "    <tr>\n",
       "      <th>1</th>\n",
       "      <td>1.000000</td>\n",
       "      <td>0.124728</td>\n",
       "    </tr>\n",
       "    <tr>\n",
       "      <th>318</th>\n",
       "      <td>0.445607</td>\n",
       "      <td>0.342220</td>\n",
       "    </tr>\n",
       "    <tr>\n",
       "      <th>260</th>\n",
       "      <td>0.403770</td>\n",
       "      <td>0.222207</td>\n",
       "    </tr>\n",
       "    <tr>\n",
       "      <th>356</th>\n",
       "      <td>0.370215</td>\n",
       "      <td>0.235266</td>\n",
       "    </tr>\n",
       "    <tr>\n",
       "      <th>296</th>\n",
       "      <td>0.367295</td>\n",
       "      <td>0.284674</td>\n",
       "    </tr>\n",
       "    <tr>\n",
       "      <th>...</th>\n",
       "      <td>...</td>\n",
       "      <td>...</td>\n",
       "    </tr>\n",
       "    <tr>\n",
       "      <th>953</th>\n",
       "      <td>0.103053</td>\n",
       "      <td>0.045792</td>\n",
       "    </tr>\n",
       "    <tr>\n",
       "      <th>551</th>\n",
       "      <td>0.101195</td>\n",
       "      <td>0.040918</td>\n",
       "    </tr>\n",
       "    <tr>\n",
       "      <th>1222</th>\n",
       "      <td>0.100876</td>\n",
       "      <td>0.066877</td>\n",
       "    </tr>\n",
       "    <tr>\n",
       "      <th>745</th>\n",
       "      <td>0.100345</td>\n",
       "      <td>0.037031</td>\n",
       "    </tr>\n",
       "    <tr>\n",
       "      <th>48780</th>\n",
       "      <td>0.100186</td>\n",
       "      <td>0.068314</td>\n",
       "    </tr>\n",
       "  </tbody>\n",
       "</table>\n",
       "<p>113 rows × 2 columns</p>\n",
       "</div>"
      ],
      "text/plain": [
       "        similar       all\n",
       "1      1.000000  0.124728\n",
       "318    0.445607  0.342220\n",
       "260    0.403770  0.222207\n",
       "356    0.370215  0.235266\n",
       "296    0.367295  0.284674\n",
       "...         ...       ...\n",
       "953    0.103053  0.045792\n",
       "551    0.101195  0.040918\n",
       "1222   0.100876  0.066877\n",
       "745    0.100345  0.037031\n",
       "48780  0.100186  0.068314\n",
       "\n",
       "[113 rows x 2 columns]"
      ]
     },
     "execution_count": 99,
     "metadata": {},
     "output_type": "execute_result"
    }
   ],
   "source": [
    "rec_percentages\n",
    "\n",
    "# Note que buscamos valores altos nos conjuntos similares e valores baixos em valorem comuns\n",
    "# Assim conseguimos distinguir os \"nichos\" "
   ]
  },
  {
   "cell_type": "code",
   "execution_count": 100,
   "id": "e428f8d6",
   "metadata": {},
   "outputs": [],
   "source": [
    "#Criação de um score de recomendação\n",
    "rec_percentages[\"score\"] = rec_percentages[\"similar\"] / rec_percentages[\"all\"]"
   ]
  },
  {
   "cell_type": "code",
   "execution_count": 101,
   "id": "887eec72",
   "metadata": {},
   "outputs": [],
   "source": [
    "#Ordenando do maior ao menor\n",
    "rec_percentages = rec_percentages.sort_values(\"score\",ascending=False)"
   ]
  },
  {
   "cell_type": "code",
   "execution_count": 105,
   "id": "a12386ab",
   "metadata": {},
   "outputs": [
    {
     "data": {
      "text/html": [
       "<div>\n",
       "<style scoped>\n",
       "    .dataframe tbody tr th:only-of-type {\n",
       "        vertical-align: middle;\n",
       "    }\n",
       "\n",
       "    .dataframe tbody tr th {\n",
       "        vertical-align: top;\n",
       "    }\n",
       "\n",
       "    .dataframe thead th {\n",
       "        text-align: right;\n",
       "    }\n",
       "</style>\n",
       "<table border=\"1\" class=\"dataframe\">\n",
       "  <thead>\n",
       "    <tr style=\"text-align: right;\">\n",
       "      <th></th>\n",
       "      <th>similar</th>\n",
       "      <th>all</th>\n",
       "      <th>score</th>\n",
       "      <th>movieId</th>\n",
       "      <th>title</th>\n",
       "      <th>genres</th>\n",
       "      <th>clean_title</th>\n",
       "    </tr>\n",
       "  </thead>\n",
       "  <tbody>\n",
       "    <tr>\n",
       "      <th>0</th>\n",
       "      <td>1.000000</td>\n",
       "      <td>0.124728</td>\n",
       "      <td>8.017414</td>\n",
       "      <td>1</td>\n",
       "      <td>Toy Story (1995)</td>\n",
       "      <td>Adventure|Animation|Children|Comedy|Fantasy</td>\n",
       "      <td>Toy Story 1995</td>\n",
       "    </tr>\n",
       "    <tr>\n",
       "      <th>3021</th>\n",
       "      <td>0.280648</td>\n",
       "      <td>0.053706</td>\n",
       "      <td>5.225654</td>\n",
       "      <td>3114</td>\n",
       "      <td>Toy Story 2 (1999)</td>\n",
       "      <td>Adventure|Animation|Children|Comedy|Fantasy</td>\n",
       "      <td>Toy Story 2 1999</td>\n",
       "    </tr>\n",
       "    <tr>\n",
       "      <th>2264</th>\n",
       "      <td>0.110539</td>\n",
       "      <td>0.025091</td>\n",
       "      <td>4.405452</td>\n",
       "      <td>2355</td>\n",
       "      <td>Bug's Life, A (1998)</td>\n",
       "      <td>Adventure|Animation|Children|Comedy</td>\n",
       "      <td>Bugs Life A 1998</td>\n",
       "    </tr>\n",
       "    <tr>\n",
       "      <th>14813</th>\n",
       "      <td>0.152960</td>\n",
       "      <td>0.035131</td>\n",
       "      <td>4.354038</td>\n",
       "      <td>78499</td>\n",
       "      <td>Toy Story 3 (2010)</td>\n",
       "      <td>Adventure|Animation|Children|Comedy|Fantasy|IMAX</td>\n",
       "      <td>Toy Story 3 2010</td>\n",
       "    </tr>\n",
       "    <tr>\n",
       "      <th>4780</th>\n",
       "      <td>0.235147</td>\n",
       "      <td>0.070811</td>\n",
       "      <td>3.320783</td>\n",
       "      <td>4886</td>\n",
       "      <td>Monsters, Inc. (2001)</td>\n",
       "      <td>Adventure|Animation|Children|Comedy|Fantasy</td>\n",
       "      <td>Monsters Inc 2001</td>\n",
       "    </tr>\n",
       "    <tr>\n",
       "      <th>580</th>\n",
       "      <td>0.216618</td>\n",
       "      <td>0.067513</td>\n",
       "      <td>3.208539</td>\n",
       "      <td>588</td>\n",
       "      <td>Aladdin (1992)</td>\n",
       "      <td>Adventure|Animation|Children|Comedy|Musical</td>\n",
       "      <td>Aladdin 1992</td>\n",
       "    </tr>\n",
       "    <tr>\n",
       "      <th>6258</th>\n",
       "      <td>0.228139</td>\n",
       "      <td>0.072268</td>\n",
       "      <td>3.156862</td>\n",
       "      <td>6377</td>\n",
       "      <td>Finding Nemo (2003)</td>\n",
       "      <td>Adventure|Animation|Children|Comedy</td>\n",
       "      <td>Finding Nemo 2003</td>\n",
       "    </tr>\n",
       "    <tr>\n",
       "      <th>587</th>\n",
       "      <td>0.179400</td>\n",
       "      <td>0.059977</td>\n",
       "      <td>2.991150</td>\n",
       "      <td>595</td>\n",
       "      <td>Beauty and the Beast (1991)</td>\n",
       "      <td>Animation|Children|Fantasy|Musical|Romance|IMAX</td>\n",
       "      <td>Beauty and the Beast 1991</td>\n",
       "    </tr>\n",
       "    <tr>\n",
       "      <th>8246</th>\n",
       "      <td>0.203504</td>\n",
       "      <td>0.068453</td>\n",
       "      <td>2.972889</td>\n",
       "      <td>8961</td>\n",
       "      <td>Incredibles, The (2004)</td>\n",
       "      <td>Action|Adventure|Animation|Children|Comedy</td>\n",
       "      <td>Incredibles The 2004</td>\n",
       "    </tr>\n",
       "    <tr>\n",
       "      <th>359</th>\n",
       "      <td>0.253411</td>\n",
       "      <td>0.085764</td>\n",
       "      <td>2.954762</td>\n",
       "      <td>364</td>\n",
       "      <td>Lion King, The (1994)</td>\n",
       "      <td>Adventure|Animation|Children|Drama|Musical|IMAX</td>\n",
       "      <td>Lion King The 1994</td>\n",
       "    </tr>\n",
       "  </tbody>\n",
       "</table>\n",
       "</div>"
      ],
      "text/plain": [
       "        similar       all     score  movieId                        title  \\\n",
       "0      1.000000  0.124728  8.017414        1             Toy Story (1995)   \n",
       "3021   0.280648  0.053706  5.225654     3114           Toy Story 2 (1999)   \n",
       "2264   0.110539  0.025091  4.405452     2355         Bug's Life, A (1998)   \n",
       "14813  0.152960  0.035131  4.354038    78499           Toy Story 3 (2010)   \n",
       "4780   0.235147  0.070811  3.320783     4886        Monsters, Inc. (2001)   \n",
       "580    0.216618  0.067513  3.208539      588               Aladdin (1992)   \n",
       "6258   0.228139  0.072268  3.156862     6377          Finding Nemo (2003)   \n",
       "587    0.179400  0.059977  2.991150      595  Beauty and the Beast (1991)   \n",
       "8246   0.203504  0.068453  2.972889     8961      Incredibles, The (2004)   \n",
       "359    0.253411  0.085764  2.954762      364        Lion King, The (1994)   \n",
       "\n",
       "                                                 genres  \\\n",
       "0           Adventure|Animation|Children|Comedy|Fantasy   \n",
       "3021        Adventure|Animation|Children|Comedy|Fantasy   \n",
       "2264                Adventure|Animation|Children|Comedy   \n",
       "14813  Adventure|Animation|Children|Comedy|Fantasy|IMAX   \n",
       "4780        Adventure|Animation|Children|Comedy|Fantasy   \n",
       "580         Adventure|Animation|Children|Comedy|Musical   \n",
       "6258                Adventure|Animation|Children|Comedy   \n",
       "587     Animation|Children|Fantasy|Musical|Romance|IMAX   \n",
       "8246         Action|Adventure|Animation|Children|Comedy   \n",
       "359     Adventure|Animation|Children|Drama|Musical|IMAX   \n",
       "\n",
       "                     clean_title  \n",
       "0                 Toy Story 1995  \n",
       "3021            Toy Story 2 1999  \n",
       "2264            Bugs Life A 1998  \n",
       "14813           Toy Story 3 2010  \n",
       "4780           Monsters Inc 2001  \n",
       "580                 Aladdin 1992  \n",
       "6258           Finding Nemo 2003  \n",
       "587    Beauty and the Beast 1991  \n",
       "8246        Incredibles The 2004  \n",
       "359           Lion King The 1994  "
      ]
     },
     "execution_count": 105,
     "metadata": {},
     "output_type": "execute_result"
    }
   ],
   "source": [
    "#Unindo as duas bases de dados com os id dos filmes e os respectivos nomes\n",
    "rec_percentages.head(10).merge(filme, left_index=True, right_on= \"movieId\")"
   ]
  },
  {
   "cell_type": "markdown",
   "id": "ca829047",
   "metadata": {},
   "source": [
    "### Concatenando tudo em uma função e em seguida criando uma caixa interativa para busca de titulos"
   ]
  },
  {
   "cell_type": "code",
   "execution_count": 106,
   "id": "90fb7b7e",
   "metadata": {},
   "outputs": [],
   "source": [
    "def find_similar_movies(movie_id):\n",
    "    similar_users = ratings[(ratings[\"movieId\"]) == movie_id & (ratings[\"rating\"] > 4)][\"userId\"].unique()\n",
    "    similar_user_recs = ratings[(ratings[\"userId\"].isin(similar_users))&(ratings[\"rating\"] >4)][\"movieId\"]\n",
    "    \n",
    "    similar_user_recs = similar_user_recs.value_counts() / len(similar_users)\n",
    "    similar_user_recs = similar_user_recs[similar_user_recs > .1]\n",
    "    \n",
    "    all_users = ratings[(ratings[\"movieId\"].isin(similar_user_recs.index)) & (ratings[\"rating\"] > 4)]\n",
    "    all_users_recs = all_users[\"movieId\"].value_counts() / len(all_users[\"userId\"].unique())\n",
    "    \n",
    "    rec_percentages = pd.concat([similar_user_recs, all_users_recs],axis=1)\n",
    "    rec_percentages.columns = [\"similar\",\"all\"]\n",
    "    \n",
    "    rec_percentages[\"score\"] = rec_percentages[\"similar\"] / rec_percentages[\"all\"]\n",
    "    rec_percentages = rec_percentages.sort_values(\"score\",ascending=False)\n",
    "    \n",
    "    return rec_percentages.head(10).merge(filme, left_index=True, right_on= \"movieId\")\n",
    "    \n",
    "\n"
   ]
  },
  {
   "cell_type": "code",
   "execution_count": 110,
   "id": "8e459d2a",
   "metadata": {},
   "outputs": [
    {
     "data": {
      "application/vnd.jupyter.widget-view+json": {
       "model_id": "cd92e192aa584259966019e9f4729918",
       "version_major": 2,
       "version_minor": 0
      },
      "text/plain": [
       "Text(value='Toy Story', description='Movie Title')"
      ]
     },
     "metadata": {},
     "output_type": "display_data"
    },
    {
     "data": {
      "application/vnd.jupyter.widget-view+json": {
       "model_id": "62e9cecdbe3c4b45ab53673a40b3d9fb",
       "version_major": 2,
       "version_minor": 0
      },
      "text/plain": [
       "Output()"
      ]
     },
     "metadata": {},
     "output_type": "display_data"
    }
   ],
   "source": [
    "movie_name_input = widgets.Text(\n",
    "    value=\"Toy Story\",\n",
    "     description=\"Movie Title\",\n",
    "     desable= False\n",
    ")\n",
    "\n",
    "recomendation_list = widgets.Output()\n",
    "\n",
    "def on_type(data):\n",
    "    with recomendation_list:\n",
    "        recomendaditon_list.clear_output\n",
    "        title = data[\"new\"]\n",
    "        if len(title) >5:\n",
    "            results=search(title)\n",
    "            movie_id = results.iloc[0][\"movieId\"]\n",
    "            display(find_similar_movies(movie_id))\n",
    "            \n",
    "            \n",
    "movie_name_input.observe(on_type, names=\"value\") \n",
    "\n",
    "display(movie_name_input, recomendation_list)"
   ]
  }
 ],
 "metadata": {
  "kernelspec": {
   "display_name": "Python 3 (ipykernel)",
   "language": "python",
   "name": "python3"
  },
  "language_info": {
   "codemirror_mode": {
    "name": "ipython",
    "version": 3
   },
   "file_extension": ".py",
   "mimetype": "text/x-python",
   "name": "python",
   "nbconvert_exporter": "python",
   "pygments_lexer": "ipython3",
   "version": "3.11.4"
  }
 },
 "nbformat": 4,
 "nbformat_minor": 5
}
